{
 "cells": [
  {
   "cell_type": "markdown",
   "id": "c44f033d",
   "metadata": {},
   "source": [
    "# 04) 한국어 BERT의 마스크드 언어 모델(Masked Language Model) 실습"
   ]
  },
  {
   "cell_type": "markdown",
   "id": "76d22599",
   "metadata": {},
   "source": [
    "## 1. 마스크드 언어 모델과 토크나이저"
   ]
  },
  {
   "cell_type": "code",
   "execution_count": 1,
   "id": "ac2d88af",
   "metadata": {},
   "outputs": [],
   "source": [
    "from transformers import TFBertForMaskedLM\n",
    "from transformers import AutoTokenizer"
   ]
  },
  {
   "cell_type": "code",
   "execution_count": 2,
   "id": "2f249b92",
   "metadata": {},
   "outputs": [
    {
     "name": "stderr",
     "output_type": "stream",
     "text": [
      "Some weights of the PyTorch model were not used when initializing the TF 2.0 model TFBertForMaskedLM: ['cls.predictions.decoder.bias', 'bert.embeddings.position_ids']\n",
      "- This IS expected if you are initializing TFBertForMaskedLM from a PyTorch model trained on another task or with another architecture (e.g. initializing a TFBertForSequenceClassification model from a BertForPreTraining model).\n",
      "- This IS NOT expected if you are initializing TFBertForMaskedLM from a PyTorch model that you expect to be exactly identical (e.g. initializing a TFBertForSequenceClassification model from a BertForSequenceClassification model).\n",
      "All the weights of TFBertForMaskedLM were initialized from the PyTorch model.\n",
      "If your task is similar to the task the model of the checkpoint was trained on, you can already use TFBertForMaskedLM for predictions without further training.\n"
     ]
    },
    {
     "data": {
      "application/vnd.jupyter.widget-view+json": {
       "model_id": "1750cda538364b6daaed9f609bb2773c",
       "version_major": 2,
       "version_minor": 0
      },
      "text/plain": [
       "Downloading:   0%|          | 0.00/289 [00:00<?, ?B/s]"
      ]
     },
     "metadata": {},
     "output_type": "display_data"
    },
    {
     "data": {
      "application/vnd.jupyter.widget-view+json": {
       "model_id": "8d835ccc1baf49aba45c8cc81df9e6a2",
       "version_major": 2,
       "version_minor": 0
      },
      "text/plain": [
       "Downloading:   0%|          | 0.00/248k [00:00<?, ?B/s]"
      ]
     },
     "metadata": {},
     "output_type": "display_data"
    },
    {
     "data": {
      "application/vnd.jupyter.widget-view+json": {
       "model_id": "a429089315ec445590b2faa4b042d461",
       "version_major": 2,
       "version_minor": 0
      },
      "text/plain": [
       "Downloading:   0%|          | 0.00/495k [00:00<?, ?B/s]"
      ]
     },
     "metadata": {},
     "output_type": "display_data"
    },
    {
     "data": {
      "application/vnd.jupyter.widget-view+json": {
       "model_id": "9e577e2f2fd64bb3b30f13cceebcbfe5",
       "version_major": 2,
       "version_minor": 0
      },
      "text/plain": [
       "Downloading:   0%|          | 0.00/125 [00:00<?, ?B/s]"
      ]
     },
     "metadata": {},
     "output_type": "display_data"
    }
   ],
   "source": [
    "# 'klue/bert-base'는 대표적인 한국어 BERT \n",
    "# 해당모델이 파이토치로 학습된 모델이지만 텐서플로우에서 사용하겠다는 의미\n",
    "model = TFBertForMaskedLM.from_pretrained('klue/bert-base', from_pt=True)\n",
    "tokenizer = AutoTokenizer.from_pretrained(\"klue/bert-base\")"
   ]
  },
  {
   "cell_type": "markdown",
   "id": "8d16a07d",
   "metadata": {},
   "source": [
    "## 2. 정수 인코딩"
   ]
  },
  {
   "cell_type": "code",
   "execution_count": 3,
   "id": "a9664bf4",
   "metadata": {},
   "outputs": [],
   "source": [
    "inputs = tokenizer('축구는 정말 재미있는 [MASK]다.', return_tensors='tf')"
   ]
  },
  {
   "cell_type": "code",
   "execution_count": 4,
   "id": "d5ba7f86",
   "metadata": {},
   "outputs": [
    {
     "data": {
      "text/plain": [
       "{'input_ids': <tf.Tensor: shape=(1, 10), dtype=int32, numpy=array([[   2, 4713, 2259, 3944, 6001, 2259,    4,  809,   18,    3]])>, 'token_type_ids': <tf.Tensor: shape=(1, 10), dtype=int32, numpy=array([[0, 0, 0, 0, 0, 0, 0, 0, 0, 0]])>, 'attention_mask': <tf.Tensor: shape=(1, 10), dtype=int32, numpy=array([[1, 1, 1, 1, 1, 1, 1, 1, 1, 1]])>}"
      ]
     },
     "execution_count": 4,
     "metadata": {},
     "output_type": "execute_result"
    }
   ],
   "source": [
    "inputs"
   ]
  },
  {
   "cell_type": "code",
   "execution_count": 9,
   "id": "19f0c75b",
   "metadata": {},
   "outputs": [
    {
     "data": {
      "text/plain": [
       "<tf.Tensor: shape=(1, 10), dtype=int32, numpy=array([[   2, 4713, 2259, 3944, 6001, 2259,    4,  809,   18,    3]])>"
      ]
     },
     "execution_count": 9,
     "metadata": {},
     "output_type": "execute_result"
    }
   ],
   "source": [
    "inputs['input_ids']"
   ]
  },
  {
   "cell_type": "code",
   "execution_count": 10,
   "id": "25d1a5a3",
   "metadata": {},
   "outputs": [
    {
     "data": {
      "text/plain": [
       "<tf.Tensor: shape=(1, 10), dtype=int32, numpy=array([[0, 0, 0, 0, 0, 0, 0, 0, 0, 0]])>"
      ]
     },
     "execution_count": 10,
     "metadata": {},
     "output_type": "execute_result"
    }
   ],
   "source": [
    "# 세그먼트 인코딩 결과\n",
    "inputs['token_type_ids']"
   ]
  },
  {
   "cell_type": "code",
   "execution_count": 11,
   "id": "c0ca9650",
   "metadata": {},
   "outputs": [
    {
     "data": {
      "text/plain": [
       "<tf.Tensor: shape=(1, 10), dtype=int32, numpy=array([[1, 1, 1, 1, 1, 1, 1, 1, 1, 1]])>"
      ]
     },
     "execution_count": 11,
     "metadata": {},
     "output_type": "execute_result"
    }
   ],
   "source": [
    "# 오텐션 마스크\n",
    "inputs['attention_mask']"
   ]
  },
  {
   "cell_type": "markdown",
   "id": "95830258",
   "metadata": {},
   "source": [
    "## [MASK] 토큰 예측하기"
   ]
  },
  {
   "cell_type": "code",
   "execution_count": 12,
   "id": "9a25a7d0",
   "metadata": {},
   "outputs": [],
   "source": [
    "#FillMaskPipeline은 모델과 토크나이저 지정시 마스크드 언어 모델의 예측결과 정리해서 보여준다.\n",
    "from transformers import FillMaskPipeline\n",
    "pip = FillMaskPipeline(model=model, tokenizer=tokenizer)"
   ]
  },
  {
   "cell_type": "code",
   "execution_count": 13,
   "id": "872fbd8b",
   "metadata": {},
   "outputs": [
    {
     "data": {
      "text/plain": [
       "[{'score': 0.7453209757804871,\n",
       "  'token': 4559,\n",
       "  'token_str': '스포츠',\n",
       "  'sequence': '축구는 정말 재미있는 스포츠 다'},\n",
       " {'score': 0.16496725380420685,\n",
       "  'token': 568,\n",
       "  'token_str': '거',\n",
       "  'sequence': '축구는 정말 재미있는 거 다'},\n",
       " {'score': 0.019687669351696968,\n",
       "  'token': 578,\n",
       "  'token_str': '게',\n",
       "  'sequence': '축구는 정말 재미있는 게 다'},\n",
       " {'score': 0.01724977232515812,\n",
       "  'token': 3682,\n",
       "  'token_str': '경기',\n",
       "  'sequence': '축구는 정말 재미있는 경기 다'},\n",
       " {'score': 0.006887007970362902,\n",
       "  'token': 4171,\n",
       "  'token_str': '게임',\n",
       "  'sequence': '축구는 정말 재미있는 게임 다'}]"
      ]
     },
     "execution_count": 13,
     "metadata": {},
     "output_type": "execute_result"
    }
   ],
   "source": [
    "pip('축구는 정말 재미있는 [MASK]다')"
   ]
  },
  {
   "cell_type": "code",
   "execution_count": 14,
   "id": "db70e84a",
   "metadata": {},
   "outputs": [
    {
     "data": {
      "text/plain": [
       "[{'score': 0.8382413983345032,\n",
       "  'token': 3771,\n",
       "  'token_str': '영화',\n",
       "  'sequence': '어벤져스는 정말 재미있는 영화 다.'},\n",
       " {'score': 0.02827559784054756,\n",
       "  'token': 568,\n",
       "  'token_str': '거',\n",
       "  'sequence': '어벤져스는 정말 재미있는 거 다.'},\n",
       " {'score': 0.017189329490065575,\n",
       "  'token': 4665,\n",
       "  'token_str': '드라마',\n",
       "  'sequence': '어벤져스는 정말 재미있는 드라마 다.'},\n",
       " {'score': 0.014989685267210007,\n",
       "  'token': 3758,\n",
       "  'token_str': '이야기',\n",
       "  'sequence': '어벤져스는 정말 재미있는 이야기 다.'},\n",
       " {'score': 0.009382631629705429,\n",
       "  'token': 4938,\n",
       "  'token_str': '장소',\n",
       "  'sequence': '어벤져스는 정말 재미있는 장소 다.'}]"
      ]
     },
     "execution_count": 14,
     "metadata": {},
     "output_type": "execute_result"
    }
   ],
   "source": [
    "pip('어벤져스는 정말 재미있는 [MASK]다.')"
   ]
  },
  {
   "cell_type": "code",
   "execution_count": 15,
   "id": "4c38c206",
   "metadata": {},
   "outputs": [
    {
     "data": {
      "text/plain": [
       "[{'score': 0.0801255851984024,\n",
       "  'token': 3769,\n",
       "  'token_str': '회사',\n",
       "  'sequence': '나는 오늘 아침에 회사 에 출근을 했다.'},\n",
       " {'score': 0.06124062091112137,\n",
       "  'token': 1,\n",
       "  'token_str': '[UNK]',\n",
       "  'sequence': '나는 오늘 아침에 에 출근을 했다.'},\n",
       " {'score': 0.01748666539788246,\n",
       "  'token': 4345,\n",
       "  'token_str': '공장',\n",
       "  'sequence': '나는 오늘 아침에 공장 에 출근을 했다.'},\n",
       " {'score': 0.01613178476691246,\n",
       "  'token': 5841,\n",
       "  'token_str': '사무실',\n",
       "  'sequence': '나는 오늘 아침에 사무실 에 출근을 했다.'},\n",
       " {'score': 0.015360736288130283,\n",
       "  'token': 3671,\n",
       "  'token_str': '서울',\n",
       "  'sequence': '나는 오늘 아침에 서울 에 출근을 했다.'}]"
      ]
     },
     "execution_count": 15,
     "metadata": {},
     "output_type": "execute_result"
    }
   ],
   "source": [
    "pip('나는 오늘 아침에 [MASK]에 출근을 했다.')"
   ]
  },
  {
   "cell_type": "code",
   "execution_count": null,
   "id": "a9c3fff3",
   "metadata": {},
   "outputs": [],
   "source": []
  }
 ],
 "metadata": {
  "kernelspec": {
   "display_name": "Python 3 (ipykernel)",
   "language": "python",
   "name": "python3"
  },
  "language_info": {
   "codemirror_mode": {
    "name": "ipython",
    "version": 3
   },
   "file_extension": ".py",
   "mimetype": "text/x-python",
   "name": "python",
   "nbconvert_exporter": "python",
   "pygments_lexer": "ipython3",
   "version": "3.9.12"
  }
 },
 "nbformat": 4,
 "nbformat_minor": 5
}
